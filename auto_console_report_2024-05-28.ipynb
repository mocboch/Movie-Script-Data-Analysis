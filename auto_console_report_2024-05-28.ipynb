{
 "cells": [
  {
   "cell_type": "markdown",
   "source": [
    "# Console Session Report (Automatically Generated)\n",
    "**Created by:** Mark\n",
    "**Date:** May 28, 2024\n",
    "**Model Version:** models/gemini-pro\n",
    "\n",
    "**Session outcome:** *Create the final dataset, 'data', starting with the two .csv files, 'BechdelData.csv' and 'tmdb_data_targets.csv'*"
   ],
   "metadata": {
    "collapsed": false
   },
   "id": "592e10893fcddc96"
  },
  {
   "cell_type": "markdown",
   "source": [
    " Reading in the CSV Files and Setting the Index**\n"
   ],
   "metadata": {
    "collapsed": false
   },
   "id": "5ebce9c4bb41ca96"
  },
  {
   "cell_type": "code",
   "execution_count": null,
   "outputs": [],
   "source": [
    "data = pd.read_csv('BechdelData.csv', index_col=0).set_index('imdbid')\n",
    "df = pd.read_csv('tmdb_data_targets.csv', index_col=0, converters={\"genre_ids\": ast.literal_eval})\n",
    "df.set_index('imdbid', inplace=True)"
   ],
   "metadata": {
    "collapsed": false
   },
   "id": "83d5d1d96fb1c6a4"
  },
  {
   "cell_type": "markdown",
   "source": [
    " Adding the 'pass_fail' Column**\n"
   ],
   "metadata": {
    "collapsed": false
   },
   "id": "1bdaac0f7032b830"
  },
  {
   "cell_type": "code",
   "execution_count": null,
   "outputs": [],
   "source": [
    "data['pass_fail'] = pd.Series()\n",
    "for i in data.index:\n",
    "    try:\n",
    "        if data['rating'][i] == 3:\n",
    "            data['pass_fail'][i] = 'pass'\n",
    "        else:\n",
    "            data['pass_fail'][i] = 'fail'\n",
    "    except ValueError: pass"
   ],
   "metadata": {
    "collapsed": false
   },
   "id": "ded65b9e3bd6852e"
  },
  {
   "cell_type": "markdown",
   "source": [
    " Joining the Two DataFrames**\n"
   ],
   "metadata": {
    "collapsed": false
   },
   "id": "9873b6d29a584f64"
  },
  {
   "cell_type": "code",
   "execution_count": null,
   "outputs": [],
   "source": [
    "data = data.join(df, on='imdbid', lsuffix='bechdel', rsuffix='tmdb')"
   ],
   "metadata": {
    "collapsed": false
   },
   "id": "39f648d6faa18c63"
  },
  {
   "cell_type": "markdown",
   "source": [
    " Getting the Genre Data from the TMDb API**\n"
   ],
   "metadata": {
    "collapsed": false
   },
   "id": "a01e2476ecd0d5f5"
  },
  {
   "cell_type": "code",
   "execution_count": null,
   "outputs": [],
   "source": [
    "url = \"https://api.themoviedb.org/3/genre/movie/list\"\n",
    "auth = 'Bearer ' + open('tmdbauth.txt').read()\n",
    "headers = {\n",
    "    'accept' : 'application/json',\n",
    "    'Authorization' : auth\n",
    "}\n",
    "response = requests.get(url, headers=headers)\n",
    "genre_dict = {}\n",
    "for genre in json.loads(response.text)['genres']:\n",
    "    genre_dict[genre['id']] = genre['name']"
   ],
   "metadata": {
    "collapsed": false
   },
   "id": "c6d5ee8dc368ca58"
  },
  {
   "cell_type": "markdown",
   "source": [
    " Adding the Genre Columns to the DataFrame**\n"
   ],
   "metadata": {
    "collapsed": false
   },
   "id": "2a9aeabc9f6988e4"
  },
  {
   "cell_type": "code",
   "execution_count": null,
   "outputs": [],
   "source": [
    "for i in genre_dict.keys():\n",
    "    data[genre_dict[i]] = pd.Series()\n",
    "for i in data.index:\n",
    "    try:\n",
    "        for j in data['genre_ids'][i]:\n",
    "            data[genre_dict[j]][i] = 1\n",
    "    except (TypeError, KeyError): continue"
   ],
   "metadata": {
    "collapsed": false
   },
   "id": "156078c48846f6ff"
  },
  {
   "cell_type": "markdown",
   "source": [
    " Filling in Missing Values and Summing the Genre Columns**\n"
   ],
   "metadata": {
    "collapsed": false
   },
   "id": "75cecffac33bab42"
  },
  {
   "cell_type": "code",
   "execution_count": null,
   "outputs": [],
   "source": [
    "data.loc[:,'Action':] = data.loc[:,'Action':].fillna(0)\n",
    "data.loc[:,'Action':].sum()"
   ],
   "metadata": {
    "collapsed": false
   },
   "id": "36c745c3bc7082a5"
  }
 ],
 "metadata": {
  "kernelspec": {
   "name": "python3",
   "language": "python",
   "display_name": "Python 3 (ipykernel)"
  }
 },
 "nbformat": 4,
 "nbformat_minor": 5
}
